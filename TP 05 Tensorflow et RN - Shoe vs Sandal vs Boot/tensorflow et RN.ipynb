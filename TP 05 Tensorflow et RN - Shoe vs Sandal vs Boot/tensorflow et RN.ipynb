{
 "cells": [
  {
   "cell_type": "code",
   "execution_count": 101,
   "id": "a1b2b16a",
   "metadata": {},
   "outputs": [],
   "source": [
    "import numpy as np \n",
    "import matplotlib.pyplot as plt\n",
    "import cv2 as cv\n",
    "import glob\n",
    "from PIL import Image\n",
    "from sklearn.model_selection import train_test_split\n",
    "import torch\n",
    "\n",
    "import os "
   ]
  },
  {
   "cell_type": "code",
   "execution_count": 102,
   "id": "e7cfb353",
   "metadata": {},
   "outputs": [
    {
     "name": "stdout",
     "output_type": "stream",
     "text": [
      "Files and directories in ' C:\\Users\\pc\\Desktop\\tp arki ann\\Shoe vs Sandal vs Boot Dataset ' :\n",
      "['Boot', 'Sandal', 'Shoe']\n"
     ]
    }
   ],
   "source": [
    "path = \"C:\\\\Users\\\\pc\\\\Desktop\\\\tp arki ann\\\\Shoe vs Sandal vs Boot Dataset\"\n",
    "dir_list = os.listdir(path)\n",
    " \n",
    "print(\"Files and directories in '\", path, \"' :\")\n",
    "# prints all files\n",
    "print(dir_list)"
   ]
  },
  {
   "cell_type": "code",
   "execution_count": 103,
   "id": "bd92d8e4",
   "metadata": {
    "scrolled": true
   },
   "outputs": [],
   "source": [
    "all = []\n",
    "\n",
    "for file in dir_list:\n",
    "    for i in range(1,5001):\n",
    "        all.append(cv.imread(f\"Shoe vs Sandal vs Boot Dataset/{file}/{file} ({i}).jpg\", cv.IMREAD_COLOR))"
   ]
  },
  {
   "cell_type": "code",
   "execution_count": 104,
   "id": "1c40a14a",
   "metadata": {},
   "outputs": [
    {
     "data": {
      "text/plain": [
       "15000"
      ]
     },
     "execution_count": 104,
     "metadata": {},
     "output_type": "execute_result"
    }
   ],
   "source": [
    "len(all)"
   ]
  },
  {
   "cell_type": "code",
   "execution_count": 105,
   "id": "bbc33d7e",
   "metadata": {},
   "outputs": [
    {
     "name": "stdout",
     "output_type": "stream",
     "text": [
      "(102, 135, 3) 5027\n",
      "(102, 136, 3) 5028\n",
      "(102, 135, 3) 5090\n",
      "(102, 136, 3) 5091\n"
     ]
    }
   ],
   "source": [
    "a = all[1].shape\n",
    "for i, img in enumerate(all):\n",
    "    if img.shape != a:\n",
    "        print(img.shape, i)\n",
    "        a = img.shape"
   ]
  },
  {
   "cell_type": "code",
   "execution_count": 106,
   "id": "c5f27c25",
   "metadata": {},
   "outputs": [],
   "source": [
    "for i, img in enumerate(all):\n",
    "    if img.shape != (102, 136, 3):\n",
    "        all.pop(i)"
   ]
  },
  {
   "cell_type": "code",
   "execution_count": 107,
   "id": "c4e36a76",
   "metadata": {},
   "outputs": [
    {
     "data": {
      "text/plain": [
       "14998"
      ]
     },
     "execution_count": 107,
     "metadata": {},
     "output_type": "execute_result"
    }
   ],
   "source": [
    "len(all)"
   ]
  },
  {
   "cell_type": "code",
   "execution_count": 108,
   "id": "f9fa05be",
   "metadata": {},
   "outputs": [],
   "source": [
    "all = np.array(all)"
   ]
  },
  {
   "attachments": {},
   "cell_type": "markdown",
   "id": "f03500d7",
   "metadata": {},
   "source": [
    "# label creation and split the data "
   ]
  },
  {
   "cell_type": "code",
   "execution_count": 109,
   "id": "4fc8fbb7",
   "metadata": {},
   "outputs": [],
   "source": [
    "labels = np.concatenate([np.zeros(5000), np.ones(4998), 2*np.ones(5000)])\n",
    "\n",
    "X_train, X_test, y_train, y_test = train_test_split(\n",
    "    all, labels, test_size=1/3, shuffle=True, stratify=labels)"
   ]
  },
  {
   "cell_type": "code",
   "execution_count": 43,
   "id": "d31f4f75",
   "metadata": {},
   "outputs": [
    {
     "name": "stdout",
     "output_type": "stream",
     "text": [
      "Model: \"sequential_7\"\n",
      "_________________________________________________________________\n",
      " Layer (type)                Output Shape              Param #   \n",
      "=================================================================\n",
      " conv2d_10 (Conv2D)          (None, 100, 134, 32)      896       \n",
      "                                                                 \n",
      " max_pooling2d_10 (MaxPoolin  (None, 50, 67, 32)       0         \n",
      " g2D)                                                            \n",
      "                                                                 \n",
      " conv2d_11 (Conv2D)          (None, 48, 65, 64)        18496     \n",
      "                                                                 \n",
      " max_pooling2d_11 (MaxPoolin  (None, 24, 32, 64)       0         \n",
      " g2D)                                                            \n",
      "                                                                 \n",
      " flatten_5 (Flatten)         (None, 49152)             0         \n",
      "                                                                 \n",
      " dense_14 (Dense)            (None, 64)                3145792   \n",
      "                                                                 \n",
      " dense_15 (Dense)            (None, 3)                 195       \n",
      "                                                                 \n",
      "=================================================================\n",
      "Total params: 3,165,379\n",
      "Trainable params: 3,165,379\n",
      "Non-trainable params: 0\n",
      "_________________________________________________________________\n"
     ]
    }
   ],
   "source": [
    "import tensorflow as tf\n",
    "from tensorflow.keras import layers\n",
    "\n",
    "# Set the input shape\n",
    "input_shape = (102, 136, 3)\n",
    "num_classes = 3\n",
    "\n",
    "# Build the model\n",
    "model = tf.keras.Sequential([\n",
    "    layers.Conv2D(32, (3, 3), activation='relu', input_shape=input_shape),\n",
    "    layers.MaxPooling2D((2, 2)),\n",
    "    layers.Conv2D(64, (3, 3), activation='relu'),\n",
    "    layers.MaxPooling2D((2, 2)),\n",
    "    layers.Flatten(),\n",
    "    layers.Dense(64, activation='relu'),\n",
    "    layers.Dense(num_classes, activation='softmax')\n",
    "])\n",
    "\n",
    "# Compile the model\n",
    "model.compile(\n",
    "    optimizer='adam',\n",
    "    loss='categorical_crossentropy',\n",
    "    metrics=['accuracy']\n",
    ")\n",
    "\n",
    "# Print the model summary\n",
    "model.summary()\n"
   ]
  },
  {
   "cell_type": "code",
   "execution_count": 44,
   "id": "6ca731c4",
   "metadata": {},
   "outputs": [
    {
     "name": "stdout",
     "output_type": "stream",
     "text": [
      "Epoch 1/10\n",
      "313/313 [==============================] - 56s 178ms/step - loss: 12.7598 - accuracy: 0.8435 - val_loss: 0.3154 - val_accuracy: 0.8838\n",
      "Epoch 2/10\n",
      "313/313 [==============================] - 54s 172ms/step - loss: 0.2233 - accuracy: 0.9219 - val_loss: 0.4597 - val_accuracy: 0.8374\n",
      "Epoch 3/10\n",
      "313/313 [==============================] - 54s 173ms/step - loss: 0.2561 - accuracy: 0.9074 - val_loss: 0.2265 - val_accuracy: 0.9300\n",
      "Epoch 4/10\n",
      "313/313 [==============================] - 56s 178ms/step - loss: 0.1159 - accuracy: 0.9590 - val_loss: 0.2740 - val_accuracy: 0.9162\n",
      "Epoch 5/10\n",
      "313/313 [==============================] - 54s 172ms/step - loss: 0.0817 - accuracy: 0.9693 - val_loss: 0.2424 - val_accuracy: 0.9378\n",
      "Epoch 6/10\n",
      "313/313 [==============================] - 54s 173ms/step - loss: 0.0580 - accuracy: 0.9814 - val_loss: 0.3131 - val_accuracy: 0.9292\n",
      "Epoch 7/10\n",
      "313/313 [==============================] - 54s 173ms/step - loss: 0.1623 - accuracy: 0.9462 - val_loss: 0.2989 - val_accuracy: 0.9206\n",
      "Epoch 8/10\n",
      "313/313 [==============================] - 54s 173ms/step - loss: 0.0757 - accuracy: 0.9777 - val_loss: 0.3222 - val_accuracy: 0.9356\n",
      "Epoch 9/10\n",
      "313/313 [==============================] - 57s 181ms/step - loss: 0.2344 - accuracy: 0.9343 - val_loss: 0.3855 - val_accuracy: 0.8950\n",
      "Epoch 10/10\n",
      "313/313 [==============================] - 55s 176ms/step - loss: 0.1345 - accuracy: 0.9571 - val_loss: 0.2441 - val_accuracy: 0.9304\n",
      "313/313 [==============================] - 12s 39ms/step - loss: 0.0584 - accuracy: 0.9782\n",
      "Validation Loss: 0.0584\n",
      "Validation Accuracy: 0.9782\n"
     ]
    }
   ],
   "source": [
    "# Assuming you have prepared your data and have X_train, y_train, X_val, y_val\n",
    "\n",
    "# Convert labels to one-hot encoding\n",
    "y_train_one_hot = tf.keras.utils.to_categorical(y_train, num_classes)\n",
    "y_test_one_hot = tf.keras.utils.to_categorical(y_test, num_classes)\n",
    "\n",
    "# Train the model\n",
    "history = model.fit(\n",
    "    X_train, y_train_one_hot,\n",
    "    batch_size=32,\n",
    "    epochs=10,\n",
    "    validation_data=(X_test, y_test_one_hot)\n",
    ")\n",
    "\n",
    "# Evaluate the model\n",
    "loss, accuracy = model.evaluate(X_train, y_train_one_hot)\n",
    "print(f\"Validation Loss: {loss:.4f}\")\n",
    "print(f\"Validation Accuracy: {accuracy:.4f}\")\n"
   ]
  },
  {
   "cell_type": "code",
   "execution_count": 20,
   "id": "03bbeb76",
   "metadata": {},
   "outputs": [],
   "source": []
  },
  {
   "cell_type": "code",
   "execution_count": 45,
   "id": "df46e696",
   "metadata": {},
   "outputs": [
    {
     "name": "stdout",
     "output_type": "stream",
     "text": [
      "313/313 [==============================] - 12s 37ms/step - loss: 0.0584 - accuracy: 0.9782\n",
      "Validation Loss: 0.0584\n",
      "Validation Accuracy: 0.9782\n"
     ]
    }
   ],
   "source": [
    "loss, accuracy = model.evaluate(X_train, y_train_one_hot)\n",
    "print(f\"Validation Loss: {loss:.4f}\")\n",
    "print(f\"Validation Accuracy: {accuracy:.4f}\")"
   ]
  },
  {
   "cell_type": "code",
   "execution_count": 46,
   "id": "bd8ee4b0",
   "metadata": {},
   "outputs": [
    {
     "name": "stdout",
     "output_type": "stream",
     "text": [
      "157/157 [==============================] - 6s 38ms/step - loss: 0.2441 - accuracy: 0.9304\n",
      "Validation Loss: 0.2441\n",
      "Validation Accuracy: 0.9304\n"
     ]
    }
   ],
   "source": [
    "loss, accuracy = model.evaluate(X_test, y_test_one_hot)\n",
    "print(f\"Validation Loss: {loss:.4f}\")\n",
    "print(f\"Validation Accuracy: {accuracy:.4f}\")"
   ]
  },
  {
   "cell_type": "code",
   "execution_count": null,
   "id": "a0fb89eb",
   "metadata": {},
   "outputs": [],
   "source": []
  },
  {
   "cell_type": "code",
   "execution_count": null,
   "id": "75df2a90",
   "metadata": {},
   "outputs": [],
   "source": []
  },
  {
   "cell_type": "code",
   "execution_count": null,
   "id": "b3550d99",
   "metadata": {},
   "outputs": [],
   "source": []
  },
  {
   "cell_type": "code",
   "execution_count": null,
   "id": "efe19a58",
   "metadata": {},
   "outputs": [],
   "source": []
  },
  {
   "attachments": {},
   "cell_type": "markdown",
   "id": "69603d77",
   "metadata": {},
   "source": [
    "# model 01"
   ]
  },
  {
   "cell_type": "code",
   "execution_count": 48,
   "id": "eb85c8b3",
   "metadata": {},
   "outputs": [
    {
     "name": "stdout",
     "output_type": "stream",
     "text": [
      "Model: \"sequential_9\"\n",
      "_________________________________________________________________\n",
      " Layer (type)                Output Shape              Param #   \n",
      "=================================================================\n",
      " conv2d_14 (Conv2D)          (None, 100, 134, 32)      896       \n",
      "                                                                 \n",
      " conv2d_15 (Conv2D)          (None, 98, 132, 32)       9248      \n",
      "                                                                 \n",
      " max_pooling2d_14 (MaxPoolin  (None, 49, 66, 32)       0         \n",
      " g2D)                                                            \n",
      "                                                                 \n",
      " dropout_2 (Dropout)         (None, 49, 66, 32)        0         \n",
      "                                                                 \n",
      " conv2d_16 (Conv2D)          (None, 47, 64, 64)        18496     \n",
      "                                                                 \n",
      " conv2d_17 (Conv2D)          (None, 45, 62, 64)        36928     \n",
      "                                                                 \n",
      " max_pooling2d_15 (MaxPoolin  (None, 22, 31, 64)       0         \n",
      " g2D)                                                            \n",
      "                                                                 \n",
      " dropout_3 (Dropout)         (None, 22, 31, 64)        0         \n",
      "                                                                 \n",
      " flatten_7 (Flatten)         (None, 43648)             0         \n",
      "                                                                 \n",
      " dense_18 (Dense)            (None, 256)               11174144  \n",
      "                                                                 \n",
      " dropout_4 (Dropout)         (None, 256)               0         \n",
      "                                                                 \n",
      " dense_19 (Dense)            (None, 3)                 771       \n",
      "                                                                 \n",
      "=================================================================\n",
      "Total params: 11,240,483\n",
      "Trainable params: 11,240,483\n",
      "Non-trainable params: 0\n",
      "_________________________________________________________________\n"
     ]
    }
   ],
   "source": [
    "import tensorflow as tf\n",
    "from tensorflow.keras import layers\n",
    "\n",
    "# Set the input shape\n",
    "input_shape = (102, 136, 3)\n",
    "num_classes = 3\n",
    "\n",
    "# Build the model\n",
    "model = tf.keras.Sequential([\n",
    "    layers.Conv2D(32, (3, 3), activation='relu', input_shape=input_shape),\n",
    "    layers.Conv2D(32, (3, 3), activation='relu'),\n",
    "    layers.MaxPooling2D((2, 2)),\n",
    "    layers.Dropout(0.25),\n",
    "    layers.Conv2D(64, (3, 3), activation='relu'),\n",
    "    layers.Conv2D(64, (3, 3), activation='relu'),\n",
    "    layers.MaxPooling2D((2, 2)),\n",
    "    layers.Dropout(0.25),\n",
    "    layers.Flatten(),\n",
    "    layers.Dense(256, activation='relu'),\n",
    "    layers.Dropout(0.5),\n",
    "    layers.Dense(num_classes, activation='softmax')\n",
    "])\n",
    "\n",
    "# Compile the model\n",
    "model.compile(\n",
    "    optimizer='adam',\n",
    "    loss='categorical_crossentropy',\n",
    "    metrics=['accuracy']\n",
    ")\n",
    "\n",
    "# Print the model summary\n",
    "model.summary()\n"
   ]
  },
  {
   "cell_type": "code",
   "execution_count": 49,
   "id": "c8329157",
   "metadata": {},
   "outputs": [
    {
     "name": "stdout",
     "output_type": "stream",
     "text": [
      "Epoch 1/10\n",
      "313/313 [==============================] - 188s 596ms/step - loss: 5.0648 - accuracy: 0.8056 - val_loss: 0.2919 - val_accuracy: 0.9034\n",
      "Epoch 2/10\n",
      "313/313 [==============================] - 175s 560ms/step - loss: 0.2672 - accuracy: 0.9028 - val_loss: 0.2020 - val_accuracy: 0.9304\n",
      "Epoch 3/10\n",
      "313/313 [==============================] - 176s 562ms/step - loss: 0.1866 - accuracy: 0.9345 - val_loss: 0.1344 - val_accuracy: 0.9554\n",
      "Epoch 4/10\n",
      "313/313 [==============================] - 175s 560ms/step - loss: 0.1475 - accuracy: 0.9480 - val_loss: 0.1470 - val_accuracy: 0.9518\n",
      "Epoch 5/10\n",
      "313/313 [==============================] - 181s 578ms/step - loss: 0.1150 - accuracy: 0.9593 - val_loss: 0.1282 - val_accuracy: 0.9588\n",
      "Epoch 6/10\n",
      "313/313 [==============================] - 178s 567ms/step - loss: 0.0948 - accuracy: 0.9666 - val_loss: 0.1128 - val_accuracy: 0.9644\n",
      "Epoch 7/10\n",
      "313/313 [==============================] - 174s 556ms/step - loss: 0.0805 - accuracy: 0.9736 - val_loss: 0.1104 - val_accuracy: 0.9636\n",
      "Epoch 8/10\n",
      "313/313 [==============================] - 175s 559ms/step - loss: 0.0792 - accuracy: 0.9724 - val_loss: 0.1033 - val_accuracy: 0.9666\n",
      "Epoch 9/10\n",
      "313/313 [==============================] - 173s 552ms/step - loss: 0.0697 - accuracy: 0.9771 - val_loss: 0.1110 - val_accuracy: 0.9670\n",
      "Epoch 10/10\n",
      "313/313 [==============================] - 172s 550ms/step - loss: 0.0635 - accuracy: 0.9790 - val_loss: 0.0943 - val_accuracy: 0.9678\n",
      "313/313 [==============================] - 29s 94ms/step - loss: 0.0210 - accuracy: 0.9956\n",
      "Validation Loss: 0.0210\n",
      "Validation Accuracy: 0.9956\n"
     ]
    }
   ],
   "source": [
    "# Assuming you have prepared your data and have X_train, y_train, X_val, y_val\n",
    "\n",
    "# Convert labels to one-hot encoding\n",
    "y_train_one_hot = tf.keras.utils.to_categorical(y_train, num_classes)\n",
    "y_test_one_hot = tf.keras.utils.to_categorical(y_test, num_classes)\n",
    "\n",
    "# Train the model\n",
    "history = model.fit(\n",
    "    X_train, y_train_one_hot,\n",
    "    batch_size=32,\n",
    "    epochs=10,\n",
    "    validation_data=(X_test, y_test_one_hot)\n",
    ")\n",
    "\n",
    "# Evaluate the model\n",
    "loss, accuracy = model.evaluate(X_train, y_train_one_hot)\n",
    "print(f\"Validation Loss: {loss:.4f}\")\n",
    "print(f\"Validation Accuracy: {accuracy:.4f}\")\n"
   ]
  },
  {
   "cell_type": "code",
   "execution_count": 50,
   "id": "e8e85ca9",
   "metadata": {},
   "outputs": [
    {
     "name": "stdout",
     "output_type": "stream",
     "text": [
      "157/157 [==============================] - 15s 94ms/step - loss: 0.0943 - accuracy: 0.9678\n",
      "Validation Loss: 0.0943\n",
      "Validation Accuracy: 0.9678\n"
     ]
    }
   ],
   "source": [
    "loss, accuracy = model.evaluate(X_test, y_test_one_hot)\n",
    "print(f\"test Loss: {loss:.4f}\")\n",
    "print(f\"test Accuracy: {accuracy:.4f}\")"
   ]
  },
  {
   "cell_type": "code",
   "execution_count": 69,
   "id": "0f2c612d",
   "metadata": {},
   "outputs": [
    {
     "data": {
      "image/png": "[encoded data removed]",
      "text/plain": [
       "<Figure size 800x600 with 2 Axes>"
      ]
     },
     "metadata": {},
     "output_type": "display_data"
    }
   ],
   "source": [
    "import numpy as np\n",
    "import matplotlib.pyplot as plt\n",
    "import seaborn as sns\n",
    "from sklearn.metrics import confusion_matrix\n",
    "\n",
    "# true and predicted labels\n",
    "y_pred = model.predict(X_test)\n",
    "\n",
    "ypred  = np.zeros(y_pred.shape[0])\n",
    "for i in range(y_pred.shape[0]):\n",
    "    ypred[i] = np.argmax(y_pred[i])\n",
    "\n",
    "\n",
    "# Calculate the confusion matrix\n",
    "cm = confusion_matrix(y_test, ypred)\n",
    "\n",
    "# Define the class labels\n",
    "class_labels = ['Shoe', 'Sandal', 'Boot']\n",
    "\n",
    "# Plot the confusion matrix as a heatmap\n",
    "plt.figure(figsize=(8, 6))\n",
    "sns.heatmap(cm, annot=True, fmt='d', cmap='Blues', xticklabels=class_labels, yticklabels=class_labels)\n",
    "plt.xlabel('Predicted')\n",
    "plt.ylabel('True')\n",
    "plt.title('Confusion Matrix')\n",
    "plt.show()"
   ]
  },
  {
   "cell_type": "code",
   "execution_count": 74,
   "id": "5ae7fcf8",
   "metadata": {},
   "outputs": [
    {
     "data": {
      "text/plain": [
       "(5000,)"
      ]
     },
     "execution_count": 74,
     "metadata": {},
     "output_type": "execute_result"
    }
   ],
   "source": [
    "ypred.shape"
   ]
  },
  {
   "attachments": {},
   "cell_type": "markdown",
   "id": "2db7b6f3",
   "metadata": {},
   "source": [
    "# model2"
   ]
  },
  {
   "cell_type": "code",
   "execution_count": 110,
   "id": "032b0b99",
   "metadata": {},
   "outputs": [
    {
     "name": "stdout",
     "output_type": "stream",
     "text": [
      "Model: \"sequential_11\"\n",
      "_________________________________________________________________\n",
      " Layer (type)                Output Shape              Param #   \n",
      "=================================================================\n",
      " conv2d_22 (Conv2D)          (None, 100, 134, 32)      896       \n",
      "                                                                 \n",
      " conv2d_23 (Conv2D)          (None, 98, 132, 32)       9248      \n",
      "                                                                 \n",
      " max_pooling2d_18 (MaxPoolin  (None, 49, 66, 32)       0         \n",
      " g2D)                                                            \n",
      "                                                                 \n",
      " dropout_8 (Dropout)         (None, 49, 66, 32)        0         \n",
      "                                                                 \n",
      " conv2d_24 (Conv2D)          (None, 47, 64, 64)        18496     \n",
      "                                                                 \n",
      " conv2d_25 (Conv2D)          (None, 45, 62, 64)        36928     \n",
      "                                                                 \n",
      " max_pooling2d_19 (MaxPoolin  (None, 22, 31, 64)       0         \n",
      " g2D)                                                            \n",
      "                                                                 \n",
      " dropout_9 (Dropout)         (None, 22, 31, 64)        0         \n",
      "                                                                 \n",
      " flatten_9 (Flatten)         (None, 43648)             0         \n",
      "                                                                 \n",
      " dense_22 (Dense)            (None, 256)               11174144  \n",
      "                                                                 \n",
      " dropout_10 (Dropout)        (None, 256)               0         \n",
      "                                                                 \n",
      " dense_23 (Dense)            (None, 3)                 771       \n",
      "                                                                 \n",
      "=================================================================\n",
      "Total params: 11,240,483\n",
      "Trainable params: 11,240,483\n",
      "Non-trainable params: 0\n",
      "_________________________________________________________________\n"
     ]
    }
   ],
   "source": [
    "import tensorflow as tf\n",
    "from tensorflow.keras import layers\n",
    "\n",
    "# Set the input shape\n",
    "input_shape = (102, 136, 3)\n",
    "num_classes = 3\n",
    "\n",
    "# Build the model\n",
    "model = tf.keras.Sequential([\n",
    "    layers.Conv2D(32, (3, 3), activation='relu', input_shape=input_shape),\n",
    "    layers.Conv2D(32, (3, 3), activation='relu'),\n",
    "    layers.MaxPooling2D((2, 2)),\n",
    "    layers.Dropout(0.25),\n",
    "    layers.Conv2D(64, (3, 3), activation='relu'),\n",
    "    layers.Conv2D(64, (3, 3), activation='relu'),\n",
    "    layers.MaxPooling2D((2, 2)),\n",
    "    layers.Dropout(0.25),\n",
    "    layers.Flatten(),\n",
    "    layers.Dense(256, activation='relu'),\n",
    "    layers.Dropout(0.5),\n",
    "    layers.Dense(num_classes, activation='softmax')\n",
    "])\n",
    "\n",
    "# Compile the model\n",
    "model.compile(\n",
    "    optimizer='adam',\n",
    "    loss='categorical_crossentropy',\n",
    "    metrics=['accuracy']\n",
    ")\n",
    "\n",
    "# Print the model summary\n",
    "model.summary()\n"
   ]
  },
  {
   "cell_type": "code",
   "execution_count": 111,
   "id": "4988c377",
   "metadata": {},
   "outputs": [
    {
     "name": "stdout",
     "output_type": "stream",
     "text": [
      "Epoch 1/10\n",
      "313/313 [==============================] - 201s 638ms/step - loss: 4.4226 - accuracy: 0.8232\n",
      "Epoch 2/10\n",
      "313/313 [==============================] - 226s 723ms/step - loss: 0.1947 - accuracy: 0.9313\n",
      "Epoch 3/10\n",
      "313/313 [==============================] - 228s 728ms/step - loss: 0.1407 - accuracy: 0.9498\n",
      "Epoch 4/10\n",
      "313/313 [==============================] - 224s 715ms/step - loss: 0.1181 - accuracy: 0.9582\n",
      "Epoch 5/10\n",
      "313/313 [==============================] - 231s 738ms/step - loss: 0.0887 - accuracy: 0.9685\n",
      "Epoch 6/10\n",
      "313/313 [==============================] - 231s 737ms/step - loss: 0.0699 - accuracy: 0.9747\n",
      "Epoch 7/10\n",
      "313/313 [==============================] - 230s 735ms/step - loss: 0.0678 - accuracy: 0.9772\n",
      "Epoch 8/10\n",
      "313/313 [==============================] - 4677s 15s/step - loss: 0.0538 - accuracy: 0.9821\n",
      "Epoch 9/10\n",
      "313/313 [==============================] - 194s 620ms/step - loss: 0.0551 - accuracy: 0.9821\n",
      "Epoch 10/10\n",
      "313/313 [==============================] - 225s 718ms/step - loss: 0.0409 - accuracy: 0.9858\n",
      "313/313 [==============================] - 44s 139ms/step - loss: 0.0129 - accuracy: 0.9961\n",
      "Validation Loss: 0.0129\n",
      "Validation Accuracy: 0.9961\n"
     ]
    }
   ],
   "source": [
    "# Assuming you have prepared your data and have X_train, y_train, X_val, y_val\n",
    "\n",
    "# Convert labels to one-hot encoding\n",
    "y_train_one_hot = tf.keras.utils.to_categorical(y_train, num_classes)\n",
    "y_test_one_hot = tf.keras.utils.to_categorical(y_test, num_classes)\n",
    "\n",
    "# Train the model\n",
    "history = model.fit(\n",
    "    X_train, y_train_one_hot,\n",
    "    batch_size=32,\n",
    "    epochs=10\n",
    ")\n",
    "\n",
    "# Evaluate the model\n",
    "loss, accuracy = model.evaluate(X_train, y_train_one_hot)\n",
    "print(f\"Validation Loss: {loss:.4f}\")\n",
    "print(f\"Validation Accuracy: {accuracy:.4f}\")\n"
   ]
  },
  {
   "cell_type": "code",
   "execution_count": 112,
   "id": "332dfdc1",
   "metadata": {},
   "outputs": [
    {
     "name": "stdout",
     "output_type": "stream",
     "text": [
      "157/157 [==============================] - 21s 131ms/step - loss: 0.1269 - accuracy: 0.9632\n",
      "test Loss: 0.1269\n",
      "test Accuracy: 0.9632\n"
     ]
    }
   ],
   "source": [
    "loss, accuracy = model.evaluate(X_test, y_test_one_hot)\n",
    "print(f\"test Loss: {loss:.4f}\")\n",
    "print(f\"test Accuracy: {accuracy:.4f}\")"
   ]
  },
  {
   "cell_type": "code",
   "execution_count": 113,
   "id": "d4a3d6f7",
   "metadata": {},
   "outputs": [
    {
     "name": "stdout",
     "output_type": "stream",
     "text": [
      "157/157 [==============================] - 23s 146ms/step\n"
     ]
    },
    {
     "data": {
      "image/png": "[encoded data removed]",
      "text/plain": [
       "<Figure size 800x600 with 2 Axes>"
      ]
     },
     "metadata": {},
     "output_type": "display_data"
    }
   ],
   "source": [
    "import numpy as np\n",
    "import matplotlib.pyplot as plt\n",
    "import seaborn as sns\n",
    "from sklearn.metrics import confusion_matrix\n",
    "\n",
    "# true and predicted labels\n",
    "y_pred = model.predict(X_test)\n",
    "\n",
    "ypred  = np.zeros(y_pred.shape[0])\n",
    "for i in range(y_pred.shape[0]):\n",
    "    ypred[i] = np.argmax(y_pred[i])\n",
    "\n",
    "\n",
    "# Calculate the confusion matrix\n",
    "cm = confusion_matrix(y_test, ypred)\n",
    "\n",
    "# Define the class labels\n",
    "class_labels = ['Shoe', 'Sandal', 'Boot']\n",
    "\n",
    "# Plot the confusion matrix as a heatmap\n",
    "plt.figure(figsize=(8, 6))\n",
    "sns.heatmap(cm, annot=True, fmt='d', cmap='Blues', xticklabels=class_labels, yticklabels=class_labels)\n",
    "plt.xlabel('Predicted')\n",
    "plt.ylabel('True')\n",
    "plt.title('Confusion Matrix')\n",
    "plt.show()"
   ]
  }
 ],
 "metadata": {
  "kernelspec": {
   "display_name": "Python 3 (ipykernel)",
   "language": "python",
   "name": "python3"
  },
  "language_info": {
   "codemirror_mode": {
    "name": "ipython",
    "version": 3
   },
   "file_extension": ".py",
   "mimetype": "text/x-python",
   "name": "python",
   "nbconvert_exporter": "python",
   "pygments_lexer": "ipython3",
   "version": "3.10.9"
  }
 },
 "nbformat": 4,
 "nbformat_minor": 5
}
